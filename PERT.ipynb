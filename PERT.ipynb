{
 "cells": [
  {
   "cell_type": "markdown",
   "metadata": {},
   "source": [
    "### Importance Sampling for PERT\n",
    "**By Ismael Lemhadri, Sept 8, 2020**  \n",
    "See Section 9.4 of [Art Owen's notes](https://drive.google.com/open?id=1_6--LPcU8CVaMlruMCZvMiReEzHqIBMq&authuser=lemisma%40alumni.stanford.edu&usp=drive_fs) for a description of the problem.  <br>\n",
    "\n",
    "This notebook implements several approaches to importance sampling for the PERT Problem described in Art's notes.\n",
    "I recommend to thoroughly read the notes before this notebook.  \n",
    "The goal is to assess the probability that the completion time of the final task exceeds a given threshold. The framework is known as Program Evaluation and Review Technique or [PERT](https://en.wikipedia.org/wiki/Program_evaluation_and_review_technique).  \n",
    "\n",
    "I tried three importance sampling ideas:\n",
    "- The first approach upweights the distribution of all nodes by the same constant. \n",
    "- The second approach upweights only the nodes the critical path. \n",
    "Both approaches are described in Section 9.4 of the [notes](https://drive.google.com/open?id=1_6--LPcU8CVaMlruMCZvMiReEzHqIBMq&authuser=lemisma%40alumni.stanford.edu&usp=drive_fs).  \n",
    "\n",
    "- The third approach is new. It extends the second one by looking not just at the first critical path but at the *distribution* of critical paths. This is meant to upweight secondary paths as well, rather than concentrating the problem onto just one path. As a consequence, the upweighted distribution and the base distribution are closer to one another and therefore a smaller sample size should be required [[Chatterjee and Diaconis, 2017](https://projecteuclid.org/euclid.aoap/1523433632)].\n",
    "\n",
    "I evaluate the quality of the importance sampling using several metrics, including the reduction in variance and various effective sample sizes. See [Section 9.3](https://drive.google.com/open?id=1_6--LPcU8CVaMlruMCZvMiReEzHqIBMq&authuser=lemisma%40alumni.stanford.edu&usp=drive_fs) for the definition of these metrics.  \n",
    "Overall, I find that the best performer is the second approach that upweights the average critical path."
   ]
  },
  {
   "cell_type": "raw",
   "metadata": {},
   "source": [
    "# Importance sampling for PERT\n",
    "# Reports the performance of several importance sampling strategies for Program Evaluation and Review Technique.\n",
    "# Author: Ismael Lemhadri\n",
    "# Reference: https://statweb.stanford.edu/~owen/mc/Ch-var-is.pdf\n",
    "\n",
    "import numpy as np\n",
    "from scipy.stats import expon\n",
    "from collections import defaultdict\n",
    "import matplotlib.pyplot as plt\n",
    "from prettytable import PrettyTable"
   ]
  },
  {
   "cell_type": "markdown",
   "metadata": {},
   "source": [
    "![alt text](pert.png)"
   ]
  },
  {
   "cell_type": "markdown",
   "metadata": {},
   "source": [
    "Figure reproduced from [Art Owen's notes](https://statweb.stanford.edu/~owen/mc/Ch-var-is.pdf)."
   ]
  },
  {
   "cell_type": "code",
   "execution_count": 3,
   "metadata": {},
   "outputs": [],
   "source": [
    "# define the directed graph\n",
    "# parents[i] gives the list of nodes incident to node i\n",
    "parents = {\n",
    "    1:[],\n",
    "    2:[1],\n",
    "    3:[1],\n",
    "    4:[2],\n",
    "    5:[2],\n",
    "    6:[3],\n",
    "    7:[3],\n",
    "    8:[3],\n",
    "    9:[5,6,7],\n",
    "    10:[4,8,9]\n",
    "}\n",
    "\n",
    "# define the distribution of task durations\n",
    "# use the parameters from Table 9.2\n",
    "thetas = {\n",
    "         1:4,\n",
    "         2:4,\n",
    "         3:2,\n",
    "         4:5,\n",
    "         5:2,\n",
    "         6:3,\n",
    "         7:2,\n",
    "         8:3,\n",
    "         9:2,\n",
    "        10:2}\n",
    "\n",
    "n_nodes = len(thetas)\n",
    "thetasarr = np.fromiter(thetas.values(),dtype=float)"
   ]
  },
  {
   "cell_type": "code",
   "execution_count": 528,
   "metadata": {},
   "outputs": [],
   "source": [
    "def start_time(node, durations):\n",
    "    # Recursive function to compute the start time for a given node\n",
    "    # Returns:\n",
    "#         - the start time for the node\n",
    "#         - the critical path in the node up to the node\n",
    "    p = parents[node]\n",
    "    if p==[]:\n",
    "        return 0,[node]\n",
    "    else:\n",
    "        stimes = [(start_time(n,durations),n) for n in p]\n",
    "        # nodes are 1-indexed, but durations are 0-indexed\n",
    "        etimes = [(s[0] + durations[n-1],s[1]) for s,n in stimes]\n",
    "        time, path = max(etimes, key = lambda x:x[0])\n",
    "        return time, path+[node]\n",
    "\n",
    "def end_time(node, durations):\n",
    "    # Compute the completion time for a given node\n",
    "    stime = start_time(node, durations)\n",
    "    # nodes are 1-indexed, but durations are 0-indexed\n",
    "    return (stime[0] + durations[node-1],stime[1])\n",
    "\n",
    "def simulate_pert(n_trials, durations, end_node):\n",
    "    # compute the completion time for the entire PERT problem\n",
    "    counts = defaultdict(int)\n",
    "    etimes = np.zeros(n_trials)\n",
    "    for r in range(n_trials):\n",
    "        etime, path = end_time(end_node,durations[r,:])\n",
    "        etimes[r] = etime\n",
    "#         pathstr = '.'.join(list(map(str,path)))\n",
    "#         counts[pathstr] += 1\n",
    "        counts[frozenset(path)] += 1\n",
    "    return etimes, counts\n",
    "\n",
    "def print_summary_paths(counts,kappalist):\n",
    "    # function to print the distribution of critical paths\n",
    "    # A critical path is the random variable defined as \n",
    "    # the path in the graph that has the longest duration.\n",
    "    # That is, the critical path represents the \"bottleneck\" tasks in the graph\n",
    "    print(\"   Distribution of critical paths\")\n",
    "    t = PrettyTable(['Critical path \\ Kappa'] + kappalist)\n",
    "    for s in next(iter(counts.values())).keys():\n",
    "        t.add_row([sorted(list(s))] + [100*counts[kappa][s]/sum(counts[kappa].values()) for kappa in kappalist])\n",
    "    print(t)\n",
    "    return"
   ]
  },
  {
   "cell_type": "markdown",
   "metadata": {},
   "source": [
    "### Approach 0: Simulation without importance sampling"
   ]
  },
  {
   "cell_type": "code",
   "execution_count": 545,
   "metadata": {},
   "outputs": [],
   "source": [
    "# Couple the simulations for Exp. distributed duration times\n",
    "n_trials = 200000\n",
    "base_durations = np.random.exponential(scale = 1, size = (n_trials,n_nodes)) * thetasarr\n",
    "etimes_0, counts_0 = simulate_pert(n_trials, base_durations,n_nodes)"
   ]
  },
  {
   "cell_type": "code",
   "execution_count": 548,
   "metadata": {},
   "outputs": [
    {
     "data": {
      "image/png": "[encoded data removed]",
      "text/plain": [
       "<Figure size 432x288 with 1 Axes>"
      ]
     },
     "metadata": {
      "needs_background": "light"
     },
     "output_type": "display_data"
    }
   ],
   "source": [
    "plt.hist(etimes_0)\n",
    "plt.xlabel('Completion time')\n",
    "plt.ylabel('Histogram Counts');"
   ]
  },
  {
   "cell_type": "code",
   "execution_count": 509,
   "metadata": {},
   "outputs": [
    {
     "name": "stdout",
     "output_type": "stream",
     "text": [
      "   Distribution of critical paths\n",
      "+------------------+-------------------+\n",
      "|  Critical path   | % times activated |\n",
      "+------------------+-------------------+\n",
      "|  [1, 2, 4, 10]   |       34.325      |\n",
      "| [1, 2, 5, 9, 10] |       24.695      |\n",
      "| [1, 3, 6, 9, 10] |       20.955      |\n",
      "| [1, 3, 7, 9, 10] |       10.345      |\n",
      "|  [1, 3, 8, 10]   |        9.68       |\n",
      "+------------------+-------------------+\n"
     ]
    }
   ],
   "source": [
    "print(\"   Distribution of critical paths\")\n",
    "t = PrettyTable(['Critical path', '% times activated'])\n",
    "for k,v in sorted(counts_0.items(),key=lambda x:x[1],reverse = True):\n",
    "    t.add_row([sorted(list(k)), 100*v/sum(counts_0.values())])\n",
    "print(t)"
   ]
  },
  {
   "cell_type": "markdown",
   "metadata": {},
   "source": [
    "### Approach 1: IS with constant multiplier\n",
    "We take a constant multiplier $\\kappa = 4$ for all $\\theta_j$'s."
   ]
  },
  {
   "cell_type": "code",
   "execution_count": 511,
   "metadata": {},
   "outputs": [
    {
     "data": {
      "image/png": "[encoded data removed]",
      "text/plain": [
       "<Figure size 432x288 with 1 Axes>"
      ]
     },
     "metadata": {
      "needs_background": "light"
     },
     "output_type": "display_data"
    }
   ],
   "source": [
    "# illustrative example\n",
    "\n",
    "kappa = 2.5\n",
    "# use the coupling for exponential r.v.s\n",
    "durations = kappa*base_durations\n",
    "etimes, counts = simulate_pert(n_trials, durations,n_nodes)\n",
    "# compute importance sampling weights\n",
    "lambdasarr = kappa*thetasarr\n",
    "is_weights = np.exp(np.sum(expon.logpdf(durations,scale=np.ones((n_trials,n_nodes))*thetasarr), axis = 1) \\\n",
    "- np.sum(expon.logpdf(durations,scale=np.ones((n_trials,n_nodes))*lambdasarr), axis = 1))\n",
    "\n",
    "plt.hist(etimes)\n",
    "plt.xlabel('Completion time')\n",
    "plt.ylabel('Histogram Counts');"
   ]
  },
  {
   "cell_type": "code",
   "execution_count": 513,
   "metadata": {},
   "outputs": [],
   "source": [
    "def IS_summary(etimes, is_weights, threshold = 70):\n",
    "    n_trials = len(etimes)\n",
    "    estimates = (etimes >= threshold) * is_weights\n",
    "    m = np.mean(estimates)\n",
    "    s = np.std(estimates)\n",
    "    summary = {}\n",
    "    summary['10^5 * Mean'] = 10**5 * m\n",
    "    summary['10^6 * Standard error'] = 10**6 * s/np.sqrt(n_trials)\n",
    "    summary['Variance reduction'] = m*(1-m)/s**2\n",
    "    summary['Effective sample size [mean]'] = n_trials*np.mean(is_weights)**2/np.mean(is_weights**2)\n",
    "    summary['Effective sample size [var]'] = np.sum(is_weights**2)**2/np.sum(is_weights**4)\n",
    "    summary['Effective sample size [skew]'] = np.sum(is_weights**2)**3/np.sum(is_weights**3)**2\n",
    "    f_weights = estimates/np.sum(estimates)\n",
    "    summary['Effective sample size [function]'] = 1/np.sum(f_weights**2)\n",
    "    return summary\n",
    "\n",
    "def print_summary_kappas(obj, kappalist):\n",
    "    # convenience function to summarize results from multiple IS experiments\n",
    "    # each value in obj is the output of IS_summary for a different experiment\n",
    "#     print(\"N = {} simulations\\n\".format(obj['n_trials']))\n",
    "    print(\"Summary statistics for importance sampling\")\n",
    "    t = PrettyTable(['Kappa'] + kappalist)\n",
    "    for s in next(iter(obj.values())).keys():\n",
    "        t.add_row([s] + [np.round(obj[kappa][s],1) for kappa in kappalist])\n",
    "    print(t)\n",
    "    return"
   ]
  },
  {
   "cell_type": "code",
   "execution_count": 552,
   "metadata": {},
   "outputs": [
    {
     "name": "stdout",
     "output_type": "stream",
     "text": [
      "Summary statistics for importance sampling\n",
      "+----------------------------------+--------+-------+-------+------+------+------+\n",
      "|              Kappa               |  2.5   |   3   |  3.5  |  4   | 4.5  |  5   |\n",
      "+----------------------------------+--------+-------+-------+------+------+------+\n",
      "|           10^5 * Mean            |  3.4   |  3.4  |  2.9  | 3.7  | 3.0  | 2.5  |\n",
      "|      10^6 * Standard error       |  2.4   |  3.2  |  2.3  | 4.1  | 3.7  | 3.0  |\n",
      "|        Variance reduction        |  29.3  |  16.6 |  27.4 | 11.2 | 10.8 | 13.7 |\n",
      "|   Effective sample size [mean]   | 1887.9 | 367.1 |  89.5 | 29.0 | 12.3 | 6.5  |\n",
      "|   Effective sample size [var]    |  29.0  |  6.5  |  2.9  | 1.9  | 1.5  | 1.3  |\n",
      "|   Effective sample size [skew]   |  57.4  |  10.4 |  4.0  | 2.3  | 1.7  | 1.4  |\n",
      "| Effective sample size [function] | 196.9  | 111.6 | 161.3 | 82.8 | 64.6 | 67.7 |\n",
      "+----------------------------------+--------+-------+-------+------+------+------+\n",
      "\n",
      "\n",
      "   Distribution of critical paths\n",
      "+-----------------------+---------+---------+---------+---------+---------+---------+\n",
      "| Critical path \\ Kappa |   2.5   |    3    |   3.5   |    4    |   4.5   |    5    |\n",
      "+-----------------------+---------+---------+---------+---------+---------+---------+\n",
      "|     [1, 2, 4, 10]     | 35.1005 | 35.1005 | 35.1005 | 35.1005 | 35.1005 | 35.1005 |\n",
      "|    [1, 2, 5, 9, 10]   |  23.868 |  23.868 |  23.868 |  23.868 |  23.868 |  23.868 |\n",
      "|    [1, 3, 6, 9, 10]   | 20.0285 | 20.0285 | 20.0285 | 20.0285 | 20.0285 | 20.0285 |\n",
      "|     [1, 3, 8, 10]     |  10.284 |  10.284 |  10.284 |  10.284 |  10.284 |  10.284 |\n",
      "|    [1, 3, 7, 9, 10]   |  10.719 |  10.719 |  10.719 |  10.719 |  10.719 |  10.719 |\n",
      "+-----------------------+---------+---------+---------+---------+---------+---------+\n"
     ]
    }
   ],
   "source": [
    "summaries_1 = {}\n",
    "counts_1 = {}\n",
    "kappalist = [2.5,3,3.5,4,4.5,5]\n",
    "for kappa in kappalist:\n",
    "    # use the coupling for exponential r.v.s\n",
    "    durations = kappa*base_durations\n",
    "    etimes, c1 = simulate_pert(n_trials, durations,n_nodes)\n",
    "    counts_1[kappa] = c1\n",
    "    base_scale = np.ones((n_trials,n_nodes))*thetasarr\n",
    "    is_scale = np.ones((n_trials,n_nodes))*kappa*thetasarr\n",
    "    is_weights = np.exp(np.sum(expon.logpdf(durations,scale=base_scale), axis = 1) \\\n",
    "    - np.sum(expon.logpdf(durations,scale=is_scale), axis = 1))\n",
    "    summaries_1[kappa] = IS_summary(etimes, is_weights)\n",
    "\n",
    "print_summary_kappas(summaries_1, kappalist)\n",
    "print(\"\\n\")\n",
    "print_summary_paths(counts_1,kappalist)"
   ]
  },
  {
   "cell_type": "markdown",
   "metadata": {},
   "source": [
    "### Approach 2: IS with avg. critical-path multiplier\n",
    "We take $ \\lambda_j = \\theta_j$ for $j$ not in the critical path and $\\lambda_j = \\kappa \\theta_j$ for\n",
    "$j$ in the critical path {1, 2, 4, 10}."
   ]
  },
  {
   "cell_type": "code",
   "execution_count": 551,
   "metadata": {},
   "outputs": [
    {
     "name": "stdout",
     "output_type": "stream",
     "text": [
      "Summary statistics for importance sampling\n",
      "+----------------------------------+---------+---------+--------+--------+--------+\n",
      "|              Kappa               |    3    |   3.5   |   4    |  4.5   |   5    |\n",
      "+----------------------------------+---------+---------+--------+--------+--------+\n",
      "|           10^5 * Mean            |   3.2   |   3.2   |  3.3   |  3.2   |  3.2   |\n",
      "|      10^6 * Standard error       |   0.4   |   0.4   |  0.4   |  0.4   |  0.4   |\n",
      "|        Variance reduction        |  912.4  |  1132.0 | 875.2  | 1020.8 | 1000.1 |\n",
      "|   Effective sample size [mean]   | 18986.8 | 11483.1 | 7316.3 | 4865.5 | 3352.8 |\n",
      "|   Effective sample size [var]    |  3352.8 |  1735.2 | 984.0  | 600.2  | 389.0  |\n",
      "|   Effective sample size [skew]   |  4719.4 |  2498.2 | 1436.7 | 882.3  | 572.1  |\n",
      "| Effective sample size [function] |  5597.9 |  7022.3 | 5628.8 | 6417.1 | 6165.6 |\n",
      "+----------------------------------+---------+---------+--------+--------+--------+\n",
      "\n",
      "\n",
      "   Distribution of critical paths\n",
      "+-----------------------+---------+---------+---------+---------+---------+\n",
      "| Critical path \\ Kappa |    3    |   3.5   |    4    |   4.5   |    5    |\n",
      "+-----------------------+---------+---------+---------+---------+---------+\n",
      "|     [1, 2, 4, 10]     | 72.6575 |  76.357 | 79.2055 | 81.4995 | 83.3345 |\n",
      "|    [1, 2, 5, 9, 10]   |  16.516 | 15.1035 | 13.8965 | 12.8145 | 11.8775 |\n",
      "|    [1, 3, 6, 9, 10]   |  5.3975 |  4.2765 |  3.4755 |  2.882  |  2.453  |\n",
      "|     [1, 3, 8, 10]     |  2.7345 |  2.148  |  1.723  |  1.413  |  1.169  |\n",
      "|    [1, 3, 7, 9, 10]   |  2.6945 |  2.115  |  1.6995 |  1.391  |  1.166  |\n",
      "+-----------------------+---------+---------+---------+---------+---------+\n"
     ]
    }
   ],
   "source": [
    "# define critical path\n",
    "critical_indices = [0,1,3,9]\n",
    "\n",
    "# run importance sampling\n",
    "summaries_2 = {}\n",
    "counts_2 = {}\n",
    "kappalist = [3,3.5,4,4.5,5]\n",
    "for kappa in kappalist:\n",
    "    avg_critical_path = np.ones(n_nodes)\n",
    "    avg_critical_path[critical_indices] *= kappa\n",
    "    # use the coupling for exponential r.v.s to sample new durations\n",
    "    durations =  avg_critical_path * base_durations\n",
    "    etimes, c2 = simulate_pert(n_trials, durations,n_nodes)\n",
    "    counts_2[kappa] = c2\n",
    "    # compute importance sampling weights\n",
    "    base_scale = (np.ones((n_trials,n_nodes))*thetasarr)[:,critical_indices]\n",
    "    is_weights = np.exp(np.sum(expon.logpdf(durations[:,critical_indices],scale=base_scale) \\\n",
    "                               -expon.logpdf(durations[:,critical_indices],scale=kappa*base_scale), axis = 1))\n",
    "#     summarize results\n",
    "    summaries_2[kappa] = IS_summary(etimes, is_weights)\n",
    "    \n",
    "print_summary_kappas(summaries_2,kappalist)\n",
    "print(\"\\n\")\n",
    "print_summary_paths(counts_2,kappalist)"
   ]
  },
  {
   "cell_type": "markdown",
   "metadata": {},
   "source": [
    "### Approach 3: IS over the distribution of critical paths"
   ]
  },
  {
   "cell_type": "code",
   "execution_count": 549,
   "metadata": {},
   "outputs": [],
   "source": [
    "# compute distribution of critical paths\n",
    "paths = []\n",
    "path_probs = []\n",
    "for k,v in counts_0.items():\n",
    "    # convert to numpy format and index nodes from 0\n",
    "    paths.append(np.array(sorted(list(k))) - 1)\n",
    "    path_probs.append(v)\n",
    "path_probs = np.array(path_probs)/sum(path_probs)"
   ]
  },
  {
   "cell_type": "code",
   "execution_count": 550,
   "metadata": {},
   "outputs": [
    {
     "name": "stdout",
     "output_type": "stream",
     "text": [
      "Summary statistics for importance sampling\n",
      "+----------------------------------+---------+--------+--------+--------+-------+-------+\n",
      "|              Kappa               |   2.5   |  3.5   |  4.5   |  5.5   |  6.5  |  7.5  |\n",
      "+----------------------------------+---------+--------+--------+--------+-------+-------+\n",
      "|           10^5 * Mean            |   7.6   |  7.8   |  5.6   |  4.5   |  3.1  |  2.2  |\n",
      "|      10^6 * Standard error       |   37.2  |  39.9  |  31.1  |  21.4  |  12.3 |  6.5  |\n",
      "|        Variance reduction        |   0.3   |  0.2   |  0.3   |  0.5   |  1.0  |  2.6  |\n",
      "|   Effective sample size [mean]   | 25363.4 | 7366.9 | 2770.4 | 1217.4 | 584.5 | 296.5 |\n",
      "|   Effective sample size [var]    |  3689.1 | 590.6  | 127.0  |  33.6  |  11.7 |  5.4  |\n",
      "|   Effective sample size [skew]   |  5600.4 | 1032.3 | 258.6  |  72.6  |  23.4 |  9.4  |\n",
      "| Effective sample size [function] |   4.2   |  3.8   |  3.2   |  4.4   |  6.2  |  11.9 |\n",
      "+----------------------------------+---------+--------+--------+--------+-------+-------+\n",
      "   Distribution of critical paths\n",
      "+-----------------------+---------+---------+---------+---------+---------+---------+\n",
      "| Critical path \\ Kappa |   2.5   |   3.5   |   4.5   |   5.5   |   6.5   |   7.5   |\n",
      "+-----------------------+---------+---------+---------+---------+---------+---------+\n",
      "|     [1, 2, 4, 10]     | 35.7595 |  35.069 |  34.567 |  34.288 | 34.1565 | 34.0645 |\n",
      "|    [1, 2, 5, 9, 10]   | 26.7085 |  26.954 |  26.81  | 26.6705 | 26.4765 | 26.2655 |\n",
      "|    [1, 3, 6, 9, 10]   |  20.044 |  20.386 |  20.712 |  20.797 | 20.8545 | 20.8435 |\n",
      "|     [1, 3, 8, 10]     |  7.619  |  7.5205 |  7.6625 |  7.9005 |  8.0965 |  8.3255 |\n",
      "|    [1, 3, 7, 9, 10]   |  9.869  | 10.0705 | 10.2485 |  10.344 |  10.416 |  10.501 |\n",
      "+-----------------------+---------+---------+---------+---------+---------+---------+\n"
     ]
    }
   ],
   "source": [
    "# define distribution of critical paths\n",
    "is_weights = np.zeros(n_trials)\n",
    "durations = np.zeros((n_trials,n_nodes))\n",
    "# compute cdf of critical paths\n",
    "c_paths = np.random.multinomial(n_trials,path_probs)\n",
    "c_paths = np.insert(0,1,np.cumsum(c_paths))\n",
    "\n",
    "# run importance sampling\n",
    "summaries_3 = {}\n",
    "counts_3 = {}\n",
    "kappalist = [2.5,3.5,4.5,5.5,6.5,7.5]\n",
    "for kappa in kappalist:\n",
    "    for critical_indices,ix,ixn in zip(paths,c_paths,c_paths[1:]):\n",
    "        avg_critical_path = np.ones(n_nodes)\n",
    "        avg_critical_path[critical_indices] *= kappa\n",
    "        # use the coupling for exponential r.v.s to sample new durations\n",
    "        durations[ix:ixn] = avg_critical_path * base_durations[ix:ixn]\n",
    "        # compute importance sampling weights\n",
    "        base_scale = (np.ones((ixn-ix,n_nodes))*thetasarr)[:,critical_indices]\n",
    "        is_weights[ix:ixn] = np.exp(np.sum(expon.logpdf(durations[ix:ixn,critical_indices],scale=base_scale) \\\n",
    "                               -expon.logpdf(durations[ix:ixn,critical_indices],scale=kappa*base_scale), axis = 1))\n",
    "    # run PERT\n",
    "    etimes, c3 = simulate_pert(n_trials, durations,n_nodes)\n",
    "    counts_3[kappa] = c3\n",
    "    # summarize results\n",
    "    summaries_3[kappa] = IS_summary(etimes, is_weights)\n",
    "    \n",
    "print_summary_kappas(summaries_3,kappalist)\n",
    "print_summary_paths(counts_3, kappalist)"
   ]
  }
 ],
 "metadata": {
  "kernelspec": {
   "display_name": "Python [conda env:.conda-lassonet] *",
   "language": "python",
   "name": "conda-env-.conda-lassonet-py"
  },
  "language_info": {
   "codemirror_mode": {
    "name": "ipython",
    "version": 3
   },
   "file_extension": ".py",
   "mimetype": "text/x-python",
   "name": "python",
   "nbconvert_exporter": "python",
   "pygments_lexer": "ipython3",
   "version": "3.6.5"
  }
 },
 "nbformat": 4,
 "nbformat_minor": 4
}
